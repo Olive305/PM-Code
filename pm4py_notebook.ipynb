{
 "cells": [
  {
   "cell_type": "markdown",
   "metadata": {},
   "source": [
    "# Importing the log model"
   ]
  },
  {
   "cell_type": "code",
   "execution_count": null,
   "metadata": {},
   "outputs": [
    {
     "name": "stdout",
     "output_type": "stream",
     "text": [
      "   case_id                                           activity  \\\n",
      "0      105                                file travel request   \n",
      "1      105  check if travel request needs preliminary pric...   \n",
      "2      105                    decide on approval requirements   \n",
      "3      105                      check if booking is necessary   \n",
      "4      105                   check if expense documents exist   \n",
      "\n",
      "  case:travel_start case:travel_end                 timestamp  \\\n",
      "0        10.01.2017      15.01.2017 2017-01-17 11:17:00+00:00   \n",
      "1        10.01.2017      15.01.2017 2017-01-17 11:23:00+00:00   \n",
      "2        10.01.2017      15.01.2017 2017-01-17 11:24:00+00:00   \n",
      "3        10.01.2017      15.01.2017 2017-01-17 11:24:00+00:00   \n",
      "4        10.01.2017      15.01.2017 2017-01-18 05:59:00+00:00   \n",
      "\n",
      "                type org:resource  cost  \n",
      "0           Employee       JB8510   452  \n",
      "1           Employee       JB8510     0  \n",
      "2           Employee       JB8510     0  \n",
      "3  Travel Department       KS9688     0  \n",
      "4           Employee       JB8510     0  \n"
     ]
    },
    {
     "ename": "Exception",
     "evalue": "the specified case ID column is not contained in the dataframe. Available columns: ['activity', 'case:travel_end', 'case:travel_start', 'case_id', 'cost', 'org:resource', 'timestamp', 'type']",
     "output_type": "error",
     "traceback": [
      "\u001b[1;31m---------------------------------------------------------------------------\u001b[0m",
      "\u001b[1;31mException\u001b[0m                                 Traceback (most recent call last)",
      "Cell \u001b[1;32mIn[21], line 18\u001b[0m\n\u001b[0;32m     15\u001b[0m \u001b[38;5;28mprint\u001b[39m(df\u001b[38;5;241m.\u001b[39mhead())\n\u001b[0;32m     17\u001b[0m \u001b[38;5;66;03m# Convert the dataframe to a pm4py log\u001b[39;00m\n\u001b[1;32m---> 18\u001b[0m event_log \u001b[38;5;241m=\u001b[39m \u001b[43mconvert_to_event_log\u001b[49m\u001b[43m(\u001b[49m\u001b[43mdf\u001b[49m\u001b[43m,\u001b[49m\u001b[43m \u001b[49m\u001b[43mcase_id_key\u001b[49m\u001b[38;5;241;43m=\u001b[39;49m\u001b[38;5;124;43m\"\u001b[39;49m\u001b[38;5;124;43mcase:concept:name\u001b[39;49m\u001b[38;5;124;43m\"\u001b[39;49m\u001b[43m)\u001b[49m\n",
      "File \u001b[1;32mc:\\Users\\olive\\AppData\\Local\\Programs\\Python\\Python312\\Lib\\site-packages\\pm4py\\convert.py:66\u001b[0m, in \u001b[0;36mconvert_to_event_log\u001b[1;34m(obj, case_id_key, **kwargs)\u001b[0m\n\u001b[0;32m     47\u001b[0m \u001b[38;5;250m\u001b[39m\u001b[38;5;124;03m\"\"\"\u001b[39;00m\n\u001b[0;32m     48\u001b[0m \u001b[38;5;124;03mConverts a DataFrame or EventStream object to an event log object.\u001b[39;00m\n\u001b[0;32m     49\u001b[0m \n\u001b[1;32m   (...)\u001b[0m\n\u001b[0;32m     62\u001b[0m \u001b[38;5;124;03m   log = pm4py.convert_to_event_log(dataframe)\u001b[39;00m\n\u001b[0;32m     63\u001b[0m \u001b[38;5;124;03m\"\"\"\u001b[39;00m\n\u001b[0;32m     65\u001b[0m \u001b[38;5;28;01mif\u001b[39;00m check_is_pandas_dataframe(obj):\n\u001b[1;32m---> 66\u001b[0m     \u001b[43mcheck_pandas_dataframe_columns\u001b[49m\u001b[43m(\u001b[49m\u001b[43mobj\u001b[49m\u001b[43m,\u001b[49m\u001b[43m \u001b[49m\u001b[43mcase_id_key\u001b[49m\u001b[38;5;241;43m=\u001b[39;49m\u001b[43mcase_id_key\u001b[49m\u001b[43m)\u001b[49m\n\u001b[0;32m     68\u001b[0m parameters \u001b[38;5;241m=\u001b[39m get_properties(obj, case_id_key\u001b[38;5;241m=\u001b[39mcase_id_key)\n\u001b[0;32m     69\u001b[0m \u001b[38;5;28;01mfor\u001b[39;00m k, v \u001b[38;5;129;01min\u001b[39;00m kwargs\u001b[38;5;241m.\u001b[39mitems():\n",
      "File \u001b[1;32mc:\\Users\\olive\\AppData\\Local\\Programs\\Python\\Python312\\Lib\\site-packages\\pm4py\\util\\pandas_utils.py:378\u001b[0m, in \u001b[0;36mcheck_pandas_dataframe_columns\u001b[1;34m(df, activity_key, case_id_key, timestamp_key, start_timestamp_key)\u001b[0m\n\u001b[0;32m    376\u001b[0m \u001b[38;5;28;01mif\u001b[39;00m case_id_key \u001b[38;5;129;01mis\u001b[39;00m \u001b[38;5;129;01mnot\u001b[39;00m \u001b[38;5;28;01mNone\u001b[39;00m:\n\u001b[0;32m    377\u001b[0m     \u001b[38;5;28;01mif\u001b[39;00m case_id_key \u001b[38;5;129;01mnot\u001b[39;00m \u001b[38;5;129;01min\u001b[39;00m df\u001b[38;5;241m.\u001b[39mcolumns:\n\u001b[1;32m--> 378\u001b[0m         \u001b[38;5;28;01mraise\u001b[39;00m \u001b[38;5;167;01mException\u001b[39;00m(\u001b[38;5;124m\"\u001b[39m\u001b[38;5;124mthe specified case ID column is not contained in the dataframe. Available columns: \u001b[39m\u001b[38;5;124m\"\u001b[39m\u001b[38;5;241m+\u001b[39m\u001b[38;5;28mstr\u001b[39m(\u001b[38;5;28msorted\u001b[39m(\u001b[38;5;28mlist\u001b[39m(df\u001b[38;5;241m.\u001b[39mcolumns))))\n\u001b[0;32m    380\u001b[0m     \u001b[38;5;28;01mif\u001b[39;00m case_id_key \u001b[38;5;129;01mnot\u001b[39;00m \u001b[38;5;129;01min\u001b[39;00m str_columns:\n\u001b[0;32m    381\u001b[0m         \u001b[38;5;28;01mraise\u001b[39;00m \u001b[38;5;167;01mException\u001b[39;00m(\u001b[38;5;124m\"\u001b[39m\u001b[38;5;124mthe case ID column should be of type string.\u001b[39m\u001b[38;5;124m\"\u001b[39m)\n",
      "\u001b[1;31mException\u001b[0m: the specified case ID column is not contained in the dataframe. Available columns: ['activity', 'case:travel_end', 'case:travel_start', 'case_id', 'cost', 'org:resource', 'timestamp', 'type']"
     ]
    }
   ],
   "source": [
    "import pandas as pd\n",
    "import numpy as np\n",
    "import pm4py\n",
    "from pm4py.objects.log.obj import EventLog,Event,Trace # under the hood objects within pm4py, subject to change\n",
    "from pm4py import convert_to_event_log\n",
    "\n",
    "# Load the CSV file into a pandas dataframe\n",
    "df = pd.read_csv('Mobis_WS2425.csv', sep=';')\n",
    "\n",
    "df[\"time:timestamp\"] = pd.to_datetime(df[\"time:timestamp\"])\n",
    "\n",
    "\n",
    "print(df.head())\n",
    "\n",
    "# Convert the dataframe to a pm4py log\n",
    "event_log = convert_to_event_log(df, case_id_key=\"case:concept:name\")"
   ]
  },
  {
   "cell_type": "code",
   "execution_count": null,
   "metadata": {},
   "outputs": [],
   "source": []
  }
 ],
 "metadata": {
  "kernelspec": {
   "display_name": "Python 3",
   "language": "python",
   "name": "python3"
  },
  "language_info": {
   "codemirror_mode": {
    "name": "ipython",
    "version": 3
   },
   "file_extension": ".py",
   "mimetype": "text/x-python",
   "name": "python",
   "nbconvert_exporter": "python",
   "pygments_lexer": "ipython3",
   "version": "3.12.8"
  }
 },
 "nbformat": 4,
 "nbformat_minor": 2
}
